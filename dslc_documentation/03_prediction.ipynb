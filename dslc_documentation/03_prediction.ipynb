{
 "cells": [
  {
   "attachments": {},
   "cell_type": "markdown",
   "metadata": {},
   "source": [
    "# Predicting diabetes status using NHANES\n",
    "\n",
    "[DSLC stages]: Analysis\n",
    "\n",
    "\n",
    "\n",
    "The following code sets up the libraries and creates cleaned and pre-processed training, validation and test data that we will use in this document."
   ]
  },
  {
   "cell_type": "code",
   "execution_count": 2,
   "metadata": {},
   "outputs": [],
   "source": [
    "import pandas as pd\n",
    "import numpy as np\n",
    "import plotly.express as px\n",
    "\n",
    "from functions.load_diabetes_data import load_diabetes_data\n",
    "# load the diabetes data\n",
    "train_data = pd.read_csv('train_data.csv')\n",
    "val_data = pd.read_csv('val_data.csv')\n",
    "test_data = pd.read_csv('test_data.csv')\n",
    "\n",
    "pd.set_option('display.max_columns', None)"
   ]
  },
  {
   "cell_type": "code",
   "execution_count": null,
   "metadata": {},
   "outputs": [],
   "source": [
    "from sklearn.model_selection import train_test_split\n",
    "from sklearn.linear_model import LogisticRegression\n",
    "from sklearn.metrics import classification_report, accuracy_score, confusion_matrix\n",
    "from sklearn.preprocessing import StandardScaler\n",
    "\n",
    "# Load the data\n",
    "train_data = pd.read_csv('train_data.csv')\n",
    "val_data = pd.read_csv('val_data.csv')\n",
    "test_data = pd.read_csv('test_data.csv')\n",
    "\n",
    "# Inspect the data\n",
    "print(train_data.head())\n",
    "print(val_data.head())\n",
    "print(test_data.head())\n",
    "\n",
    "# Assuming the target variable is named 'diabetes' and is binary (0 or 1)\n",
    "X_train = train_data.drop('diabetes', axis=1)\n",
    "y_train = train_data['diabetes']\n",
    "\n",
    "X_val = val_data.drop('diabetes', axis=1)\n",
    "y_val = val_data['diabetes']\n",
    "\n",
    "# Optional: Check for missing values\n",
    "print(X_train.isnull().sum())\n",
    "print(X_val.isnull().sum())\n",
    "\n",
    "# Scale the features\n",
    "scaler = StandardScaler()\n",
    "X_train_scaled = scaler.fit_transform(X_train)\n",
    "X_val_scaled = scaler.transform(X_val)\n",
    "\n",
    "# Train the logistic regression model\n",
    "model = LogisticRegression()\n",
    "model.fit(X_train_scaled, y_train)\n",
    "\n",
    "# Validate the model\n",
    "y_val_pred = model.predict(X_val_scaled)\n",
    "\n",
    "# Evaluate the model\n",
    "print(\"Accuracy:\", accuracy_score(y_val, y_val_pred))\n",
    "print(\"Confusion Matrix:\\n\", confusion_matrix(y_val, y_val_pred))\n",
    "print(\"Classification Report:\\n\", classification_report(y_val, y_val_pred))\n",
    "\n",
    "# To predict on the test data\n",
    "X_test = test_data.drop('diabetes', axis=1)  # Ensure the test data has the same features\n",
    "X_test_scaled = scaler.transform(X_test)\n",
    "\n",
    "y_test_pred = model.predict(X_test_scaled)"
   ]
  },
  {
   "attachments": {},
   "cell_type": "markdown",
   "metadata": {},
   "source": [
    "\n",
    "Fill in this document to complete the diabetes prediction exercise."
   ]
  },
  {
   "attachments": {},
   "cell_type": "markdown",
   "metadata": {},
   "source": []
  }
 ],
 "metadata": {
  "kernelspec": {
   "display_name": "Python 3 (ipykernel)",
   "language": "python",
   "name": "python3"
  },
  "orig_nbformat": 4
 },
 "nbformat": 4,
 "nbformat_minor": 2
}
